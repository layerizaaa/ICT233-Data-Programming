{
 "cells": [
  {
   "cell_type": "markdown",
   "metadata": {},
   "source": [
    "# Tutor-Marked Assignment - July 2022 Presentation"
   ]
  },
  {
   "cell_type": "markdown",
   "metadata": {},
   "source": [
    "##### Name: Leariza C. Vinteres\n",
    "##### Course Code: ICT233 Data Programming\n",
    "##### SUSS PI No: W*******"
   ]
  },
  {
   "cell_type": "markdown",
   "metadata": {},
   "source": [
    "### Question 1"
   ]
  },
  {
   "cell_type": "markdown",
   "metadata": {},
   "source": [
    "##### 1(a)"
   ]
  },
  {
   "cell_type": "code",
   "execution_count": 1,
   "metadata": {},
   "outputs": [
    {
     "data": {
      "text/html": [
       "<div>\n",
       "<style scoped>\n",
       "    .dataframe tbody tr th:only-of-type {\n",
       "        vertical-align: middle;\n",
       "    }\n",
       "\n",
       "    .dataframe tbody tr th {\n",
       "        vertical-align: top;\n",
       "    }\n",
       "\n",
       "    .dataframe thead th {\n",
       "        text-align: right;\n",
       "    }\n",
       "</style>\n",
       "<table border=\"1\" class=\"dataframe\">\n",
       "  <thead>\n",
       "    <tr style=\"text-align: right;\">\n",
       "      <th></th>\n",
       "      <th>id</th>\n",
       "      <th>description</th>\n",
       "      <th>assignee</th>\n",
       "      <th>sprint</th>\n",
       "      <th>team</th>\n",
       "      <th>story_points</th>\n",
       "    </tr>\n",
       "  </thead>\n",
       "  <tbody>\n",
       "    <tr>\n",
       "      <th>0</th>\n",
       "      <td>0</td>\n",
       "      <td>Itself most affect rise after product tend eat...</td>\n",
       "      <td>114</td>\n",
       "      <td>1</td>\n",
       "      <td>8</td>\n",
       "      <td>13</td>\n",
       "    </tr>\n",
       "    <tr>\n",
       "      <th>1</th>\n",
       "      <td>1</td>\n",
       "      <td>Begin herself make Congress see eight possible...</td>\n",
       "      <td>31</td>\n",
       "      <td>6</td>\n",
       "      <td>10</td>\n",
       "      <td>5</td>\n",
       "    </tr>\n",
       "    <tr>\n",
       "      <th>2</th>\n",
       "      <td>2</td>\n",
       "      <td>Plan big themselves left public glass result o...</td>\n",
       "      <td>22</td>\n",
       "      <td>1</td>\n",
       "      <td>14</td>\n",
       "      <td>13</td>\n",
       "    </tr>\n",
       "    <tr>\n",
       "      <th>3</th>\n",
       "      <td>3</td>\n",
       "      <td>Finally table by establish begin maybe tough s...</td>\n",
       "      <td>58</td>\n",
       "      <td>1</td>\n",
       "      <td>8</td>\n",
       "      <td>2</td>\n",
       "    </tr>\n",
       "    <tr>\n",
       "      <th>4</th>\n",
       "      <td>4</td>\n",
       "      <td>Seem that although executive of energy chair p...</td>\n",
       "      <td>5</td>\n",
       "      <td>1</td>\n",
       "      <td>14</td>\n",
       "      <td>3</td>\n",
       "    </tr>\n",
       "    <tr>\n",
       "      <th>5</th>\n",
       "      <td>5</td>\n",
       "      <td>Admit research north key always look politics ...</td>\n",
       "      <td>42</td>\n",
       "      <td>1</td>\n",
       "      <td>11</td>\n",
       "      <td>5</td>\n",
       "    </tr>\n",
       "    <tr>\n",
       "      <th>6</th>\n",
       "      <td>6</td>\n",
       "      <td>Administration from box product heart experien...</td>\n",
       "      <td>129</td>\n",
       "      <td>9</td>\n",
       "      <td>13</td>\n",
       "      <td>8</td>\n",
       "    </tr>\n",
       "    <tr>\n",
       "      <th>7</th>\n",
       "      <td>7</td>\n",
       "      <td>Society something as article ground leave work...</td>\n",
       "      <td>1</td>\n",
       "      <td>2</td>\n",
       "      <td>9</td>\n",
       "      <td>1</td>\n",
       "    </tr>\n",
       "    <tr>\n",
       "      <th>8</th>\n",
       "      <td>8</td>\n",
       "      <td>Hard be while somebody bed summer maybe growth...</td>\n",
       "      <td>30</td>\n",
       "      <td>1</td>\n",
       "      <td>15</td>\n",
       "      <td>1</td>\n",
       "    </tr>\n",
       "    <tr>\n",
       "      <th>9</th>\n",
       "      <td>9</td>\n",
       "      <td>With real discover stand spring check discuss ...</td>\n",
       "      <td>136</td>\n",
       "      <td>5</td>\n",
       "      <td>8</td>\n",
       "      <td>1</td>\n",
       "    </tr>\n",
       "  </tbody>\n",
       "</table>\n",
       "</div>"
      ],
      "text/plain": [
       "   id                                        description  assignee  sprint  \\\n",
       "0   0  Itself most affect rise after product tend eat...       114       1   \n",
       "1   1  Begin herself make Congress see eight possible...        31       6   \n",
       "2   2  Plan big themselves left public glass result o...        22       1   \n",
       "3   3  Finally table by establish begin maybe tough s...        58       1   \n",
       "4   4  Seem that although executive of energy chair p...         5       1   \n",
       "5   5  Admit research north key always look politics ...        42       1   \n",
       "6   6  Administration from box product heart experien...       129       9   \n",
       "7   7  Society something as article ground leave work...         1       2   \n",
       "8   8  Hard be while somebody bed summer maybe growth...        30       1   \n",
       "9   9  With real discover stand spring check discuss ...       136       5   \n",
       "\n",
       "   team  story_points  \n",
       "0     8            13  \n",
       "1    10             5  \n",
       "2    14            13  \n",
       "3     8             2  \n",
       "4    14             3  \n",
       "5    11             5  \n",
       "6    13             8  \n",
       "7     9             1  \n",
       "8    15             1  \n",
       "9     8             1  "
      ]
     },
     "execution_count": 1,
     "metadata": {},
     "output_type": "execute_result"
    }
   ],
   "source": [
    "import pandas as pd\n",
    "#importing tasks dataframe\n",
    "tasks_df = pd.read_csv('data/tasks.csv')\n",
    "\n",
    "#confirming data \n",
    "tasks_df.head(10)"
   ]
  },
  {
   "cell_type": "code",
   "execution_count": 2,
   "metadata": {},
   "outputs": [
    {
     "data": {
      "text/html": [
       "<div>\n",
       "<style scoped>\n",
       "    .dataframe tbody tr th:only-of-type {\n",
       "        vertical-align: middle;\n",
       "    }\n",
       "\n",
       "    .dataframe tbody tr th {\n",
       "        vertical-align: top;\n",
       "    }\n",
       "\n",
       "    .dataframe thead th {\n",
       "        text-align: right;\n",
       "    }\n",
       "</style>\n",
       "<table border=\"1\" class=\"dataframe\">\n",
       "  <thead>\n",
       "    <tr style=\"text-align: right;\">\n",
       "      <th></th>\n",
       "      <th>id</th>\n",
       "      <th>name</th>\n",
       "    </tr>\n",
       "  </thead>\n",
       "  <tbody>\n",
       "    <tr>\n",
       "      <th>0</th>\n",
       "      <td>1</td>\n",
       "      <td>User</td>\n",
       "    </tr>\n",
       "    <tr>\n",
       "      <th>1</th>\n",
       "      <td>2</td>\n",
       "      <td>Authentication &amp; Authorization</td>\n",
       "    </tr>\n",
       "    <tr>\n",
       "      <th>2</th>\n",
       "      <td>3</td>\n",
       "      <td>Promotion</td>\n",
       "    </tr>\n",
       "    <tr>\n",
       "      <th>3</th>\n",
       "      <td>4</td>\n",
       "      <td>Payment</td>\n",
       "    </tr>\n",
       "    <tr>\n",
       "      <th>4</th>\n",
       "      <td>5</td>\n",
       "      <td>Link</td>\n",
       "    </tr>\n",
       "    <tr>\n",
       "      <th>5</th>\n",
       "      <td>6</td>\n",
       "      <td>Share</td>\n",
       "    </tr>\n",
       "    <tr>\n",
       "      <th>6</th>\n",
       "      <td>7</td>\n",
       "      <td>Transaction</td>\n",
       "    </tr>\n",
       "    <tr>\n",
       "      <th>7</th>\n",
       "      <td>8</td>\n",
       "      <td>Infrastructure</td>\n",
       "    </tr>\n",
       "    <tr>\n",
       "      <th>8</th>\n",
       "      <td>9</td>\n",
       "      <td>Architecture</td>\n",
       "    </tr>\n",
       "    <tr>\n",
       "      <th>9</th>\n",
       "      <td>10</td>\n",
       "      <td>Engineer Experience</td>\n",
       "    </tr>\n",
       "    <tr>\n",
       "      <th>10</th>\n",
       "      <td>11</td>\n",
       "      <td>Invoice</td>\n",
       "    </tr>\n",
       "    <tr>\n",
       "      <th>11</th>\n",
       "      <td>12</td>\n",
       "      <td>Churn</td>\n",
       "    </tr>\n",
       "    <tr>\n",
       "      <th>12</th>\n",
       "      <td>13</td>\n",
       "      <td>Fraud Detection</td>\n",
       "    </tr>\n",
       "    <tr>\n",
       "      <th>13</th>\n",
       "      <td>14</td>\n",
       "      <td>Loan</td>\n",
       "    </tr>\n",
       "    <tr>\n",
       "      <th>14</th>\n",
       "      <td>15</td>\n",
       "      <td>Insurance</td>\n",
       "    </tr>\n",
       "    <tr>\n",
       "      <th>15</th>\n",
       "      <td>16</td>\n",
       "      <td>Risk Management</td>\n",
       "    </tr>\n",
       "  </tbody>\n",
       "</table>\n",
       "</div>"
      ],
      "text/plain": [
       "    id                            name\n",
       "0    1                            User\n",
       "1    2  Authentication & Authorization\n",
       "2    3                       Promotion\n",
       "3    4                         Payment\n",
       "4    5                            Link\n",
       "5    6                           Share\n",
       "6    7                     Transaction\n",
       "7    8                  Infrastructure\n",
       "8    9                    Architecture\n",
       "9   10             Engineer Experience\n",
       "10  11                         Invoice\n",
       "11  12                           Churn\n",
       "12  13                 Fraud Detection\n",
       "13  14                            Loan\n",
       "14  15                       Insurance\n",
       "15  16                 Risk Management"
      ]
     },
     "execution_count": 2,
     "metadata": {},
     "output_type": "execute_result"
    }
   ],
   "source": [
    "#importing teams dataframe\n",
    "teams_df = pd.read_csv('data/teams.csv')\n",
    "\n",
    "#confirming data \n",
    "teams_df"
   ]
  },
  {
   "cell_type": "code",
   "execution_count": 3,
   "metadata": {},
   "outputs": [
    {
     "data": {
      "text/html": [
       "<div>\n",
       "<style scoped>\n",
       "    .dataframe tbody tr th:only-of-type {\n",
       "        vertical-align: middle;\n",
       "    }\n",
       "\n",
       "    .dataframe tbody tr th {\n",
       "        vertical-align: top;\n",
       "    }\n",
       "\n",
       "    .dataframe thead th {\n",
       "        text-align: right;\n",
       "    }\n",
       "</style>\n",
       "<table border=\"1\" class=\"dataframe\">\n",
       "  <thead>\n",
       "    <tr style=\"text-align: right;\">\n",
       "      <th></th>\n",
       "      <th>user_id</th>\n",
       "      <th>team_id</th>\n",
       "    </tr>\n",
       "  </thead>\n",
       "  <tbody>\n",
       "    <tr>\n",
       "      <th>0</th>\n",
       "      <td>114</td>\n",
       "      <td>9</td>\n",
       "    </tr>\n",
       "    <tr>\n",
       "      <th>1</th>\n",
       "      <td>31</td>\n",
       "      <td>11</td>\n",
       "    </tr>\n",
       "    <tr>\n",
       "      <th>2</th>\n",
       "      <td>22</td>\n",
       "      <td>15</td>\n",
       "    </tr>\n",
       "    <tr>\n",
       "      <th>3</th>\n",
       "      <td>58</td>\n",
       "      <td>9</td>\n",
       "    </tr>\n",
       "    <tr>\n",
       "      <th>4</th>\n",
       "      <td>5</td>\n",
       "      <td>15</td>\n",
       "    </tr>\n",
       "    <tr>\n",
       "      <th>...</th>\n",
       "      <td>...</td>\n",
       "      <td>...</td>\n",
       "    </tr>\n",
       "    <tr>\n",
       "      <th>9995</th>\n",
       "      <td>100</td>\n",
       "      <td>4</td>\n",
       "    </tr>\n",
       "    <tr>\n",
       "      <th>9996</th>\n",
       "      <td>29</td>\n",
       "      <td>12</td>\n",
       "    </tr>\n",
       "    <tr>\n",
       "      <th>9997</th>\n",
       "      <td>27</td>\n",
       "      <td>6</td>\n",
       "    </tr>\n",
       "    <tr>\n",
       "      <th>9998</th>\n",
       "      <td>112</td>\n",
       "      <td>13</td>\n",
       "    </tr>\n",
       "    <tr>\n",
       "      <th>9999</th>\n",
       "      <td>93</td>\n",
       "      <td>5</td>\n",
       "    </tr>\n",
       "  </tbody>\n",
       "</table>\n",
       "<p>10000 rows × 2 columns</p>\n",
       "</div>"
      ],
      "text/plain": [
       "      user_id  team_id\n",
       "0         114        9\n",
       "1          31       11\n",
       "2          22       15\n",
       "3          58        9\n",
       "4           5       15\n",
       "...       ...      ...\n",
       "9995      100        4\n",
       "9996       29       12\n",
       "9997       27        6\n",
       "9998      112       13\n",
       "9999       93        5\n",
       "\n",
       "[10000 rows x 2 columns]"
      ]
     },
     "execution_count": 3,
     "metadata": {},
     "output_type": "execute_result"
    }
   ],
   "source": [
    "#team column in tasks.csv is referring to index of team id in teams.csv\n",
    "tasks_list = tasks_df['team'].tolist()\n",
    "teams_list = teams_df['id'].tolist()\n",
    "\n",
    "teams_id_list = []\n",
    "for teams_id in tasks_list:\n",
    "    teams_id_list.append(teams_list[teams_id])\n",
    "    \n",
    "team_membership = tasks_df.loc[:,[\"assignee\"]]\n",
    "team_membership['team_id'] = teams_id_list\n",
    "\n",
    "#renaming the headers\n",
    "dict = {'assignee': 'user_id'}\n",
    "        \n",
    "team_membership.rename(columns=dict, inplace=True)\n",
    "        \n",
    "team_membership"
   ]
  },
  {
   "cell_type": "markdown",
   "metadata": {},
   "source": [
    "##### 1(b)"
   ]
  },
  {
   "cell_type": "code",
   "execution_count": 4,
   "metadata": {},
   "outputs": [],
   "source": [
    "import sqlite3"
   ]
  },
  {
   "cell_type": "code",
   "execution_count": 5,
   "metadata": {},
   "outputs": [
    {
     "data": {
      "text/html": [
       "<div>\n",
       "<style scoped>\n",
       "    .dataframe tbody tr th:only-of-type {\n",
       "        vertical-align: middle;\n",
       "    }\n",
       "\n",
       "    .dataframe tbody tr th {\n",
       "        vertical-align: top;\n",
       "    }\n",
       "\n",
       "    .dataframe thead th {\n",
       "        text-align: right;\n",
       "    }\n",
       "</style>\n",
       "<table border=\"1\" class=\"dataframe\">\n",
       "  <thead>\n",
       "    <tr style=\"text-align: right;\">\n",
       "      <th></th>\n",
       "      <th>team_id</th>\n",
       "      <th>No of Members</th>\n",
       "    </tr>\n",
       "  </thead>\n",
       "  <tbody>\n",
       "    <tr>\n",
       "      <th>0</th>\n",
       "      <td>1</td>\n",
       "      <td>145</td>\n",
       "    </tr>\n",
       "    <tr>\n",
       "      <th>1</th>\n",
       "      <td>2</td>\n",
       "      <td>150</td>\n",
       "    </tr>\n",
       "    <tr>\n",
       "      <th>2</th>\n",
       "      <td>3</td>\n",
       "      <td>149</td>\n",
       "    </tr>\n",
       "    <tr>\n",
       "      <th>3</th>\n",
       "      <td>4</td>\n",
       "      <td>146</td>\n",
       "    </tr>\n",
       "    <tr>\n",
       "      <th>4</th>\n",
       "      <td>5</td>\n",
       "      <td>150</td>\n",
       "    </tr>\n",
       "    <tr>\n",
       "      <th>5</th>\n",
       "      <td>6</td>\n",
       "      <td>148</td>\n",
       "    </tr>\n",
       "    <tr>\n",
       "      <th>6</th>\n",
       "      <td>7</td>\n",
       "      <td>148</td>\n",
       "    </tr>\n",
       "    <tr>\n",
       "      <th>7</th>\n",
       "      <td>8</td>\n",
       "      <td>149</td>\n",
       "    </tr>\n",
       "    <tr>\n",
       "      <th>8</th>\n",
       "      <td>9</td>\n",
       "      <td>148</td>\n",
       "    </tr>\n",
       "    <tr>\n",
       "      <th>9</th>\n",
       "      <td>10</td>\n",
       "      <td>148</td>\n",
       "    </tr>\n",
       "    <tr>\n",
       "      <th>10</th>\n",
       "      <td>11</td>\n",
       "      <td>147</td>\n",
       "    </tr>\n",
       "    <tr>\n",
       "      <th>11</th>\n",
       "      <td>12</td>\n",
       "      <td>149</td>\n",
       "    </tr>\n",
       "    <tr>\n",
       "      <th>12</th>\n",
       "      <td>13</td>\n",
       "      <td>150</td>\n",
       "    </tr>\n",
       "    <tr>\n",
       "      <th>13</th>\n",
       "      <td>14</td>\n",
       "      <td>146</td>\n",
       "    </tr>\n",
       "    <tr>\n",
       "      <th>14</th>\n",
       "      <td>15</td>\n",
       "      <td>150</td>\n",
       "    </tr>\n",
       "    <tr>\n",
       "      <th>15</th>\n",
       "      <td>16</td>\n",
       "      <td>148</td>\n",
       "    </tr>\n",
       "  </tbody>\n",
       "</table>\n",
       "</div>"
      ],
      "text/plain": [
       "    team_id  No of Members\n",
       "0         1            145\n",
       "1         2            150\n",
       "2         3            149\n",
       "3         4            146\n",
       "4         5            150\n",
       "5         6            148\n",
       "6         7            148\n",
       "7         8            149\n",
       "8         9            148\n",
       "9        10            148\n",
       "10       11            147\n",
       "11       12            149\n",
       "12       13            150\n",
       "13       14            146\n",
       "14       15            150\n",
       "15       16            148"
      ]
     },
     "execution_count": 5,
     "metadata": {},
     "output_type": "execute_result"
    }
   ],
   "source": [
    "#Computing a dataframe to capture the number of members per team using groupby()\n",
    "noOfmembers = team_membership.groupby(['team_id'])['user_id'].nunique().reset_index()\n",
    "\n",
    "#Rename columns\n",
    "noOfmembers = noOfmembers.rename(columns={\"user_id\": \"No of Members\"})\n",
    "noOfmembers"
   ]
  },
  {
   "cell_type": "markdown",
   "metadata": {},
   "source": [
    "##### 1(c)"
   ]
  },
  {
   "cell_type": "code",
   "execution_count": 6,
   "metadata": {},
   "outputs": [
    {
     "name": "stdout",
     "output_type": "stream",
     "text": [
      "[1, 2, 3, 4, 5, 6, 7, 8, 9, 10, 11, 12, 13, 14, 15, 16]\n",
      "[145, 150, 149, 146, 150, 148, 148, 149, 148, 148, 147, 149, 150, 146, 150, 148]\n"
     ]
    },
    {
     "data": {
      "text/plain": [
       "Text(0.5, 1.0, 'Member Count per Team')"
      ]
     },
     "execution_count": 6,
     "metadata": {},
     "output_type": "execute_result"
    },
    {
     "data": {
      "image/png": "[encoded data removed]",
      "text/plain": [
       "<Figure size 432x288 with 1 Axes>"
      ]
     },
     "metadata": {
      "needs_background": "light"
     },
     "output_type": "display_data"
    }
   ],
   "source": [
    "%matplotlib inline\n",
    "import matplotlib.pyplot as plt\n",
    "\n",
    "#convert column data into a list\n",
    "teamID = noOfmembers['team_id'].values.tolist()\n",
    "members = noOfmembers['No of Members'].values.tolist()\n",
    "print(teamID)\n",
    "print(members)\n",
    "\n",
    "#creation histogram\n",
    "fig, ax = plt.subplots()\n",
    "hist = plt.bar(teamID, members)\n",
    "ax.set_xlabel('Teams')\n",
    "ax.set_ylabel('Number of members')\n",
    "ax.set_title('Member Count per Team')"
   ]
  },
  {
   "cell_type": "markdown",
   "metadata": {},
   "source": [
    "##### 1(d)"
   ]
  },
  {
   "cell_type": "code",
   "execution_count": 7,
   "metadata": {},
   "outputs": [
    {
     "data": {
      "text/html": [
       "<div>\n",
       "<style scoped>\n",
       "    .dataframe tbody tr th:only-of-type {\n",
       "        vertical-align: middle;\n",
       "    }\n",
       "\n",
       "    .dataframe tbody tr th {\n",
       "        vertical-align: top;\n",
       "    }\n",
       "\n",
       "    .dataframe thead th {\n",
       "        text-align: right;\n",
       "    }\n",
       "</style>\n",
       "<table border=\"1\" class=\"dataframe\">\n",
       "  <thead>\n",
       "    <tr style=\"text-align: right;\">\n",
       "      <th></th>\n",
       "      <th>id</th>\n",
       "      <th>task_id</th>\n",
       "      <th>state</th>\n",
       "    </tr>\n",
       "  </thead>\n",
       "  <tbody>\n",
       "    <tr>\n",
       "      <th>0</th>\n",
       "      <td>773be55e02f9c76adad64a75b7625645</td>\n",
       "      <td>0</td>\n",
       "      <td>draft</td>\n",
       "    </tr>\n",
       "    <tr>\n",
       "      <th>1</th>\n",
       "      <td>1048aa1f3358cf0acde552d2025c0557</td>\n",
       "      <td>0</td>\n",
       "      <td>functional_spec</td>\n",
       "    </tr>\n",
       "    <tr>\n",
       "      <th>2</th>\n",
       "      <td>07aad16c459e268b8152756eb70c5e06</td>\n",
       "      <td>0</td>\n",
       "      <td>tech_spec</td>\n",
       "    </tr>\n",
       "    <tr>\n",
       "      <th>3</th>\n",
       "      <td>a46dbcbec2d52fb3638e388b093db39b</td>\n",
       "      <td>1</td>\n",
       "      <td>draft</td>\n",
       "    </tr>\n",
       "    <tr>\n",
       "      <th>4</th>\n",
       "      <td>13dc799760765b2a6600f5da7dfe9bce</td>\n",
       "      <td>1</td>\n",
       "      <td>functional_spec</td>\n",
       "    </tr>\n",
       "    <tr>\n",
       "      <th>5</th>\n",
       "      <td>2d1ad54bf710453a4b02e6ad434c46a9</td>\n",
       "      <td>2</td>\n",
       "      <td>draft</td>\n",
       "    </tr>\n",
       "    <tr>\n",
       "      <th>6</th>\n",
       "      <td>625412e9447f64079c687fe981c52c46</td>\n",
       "      <td>2</td>\n",
       "      <td>functional_spec</td>\n",
       "    </tr>\n",
       "    <tr>\n",
       "      <th>7</th>\n",
       "      <td>a9f7b7104ec93ee2c8e2e1228a00d3d0</td>\n",
       "      <td>2</td>\n",
       "      <td>tech_spec</td>\n",
       "    </tr>\n",
       "    <tr>\n",
       "      <th>8</th>\n",
       "      <td>dcdc7193887e3d341cc5f8098eb00bcf</td>\n",
       "      <td>2</td>\n",
       "      <td>implementation</td>\n",
       "    </tr>\n",
       "    <tr>\n",
       "      <th>9</th>\n",
       "      <td>536ccf9cd24dcea9032fd3f85375ec1b</td>\n",
       "      <td>3</td>\n",
       "      <td>draft</td>\n",
       "    </tr>\n",
       "  </tbody>\n",
       "</table>\n",
       "</div>"
      ],
      "text/plain": [
       "                                 id  task_id            state\n",
       "0  773be55e02f9c76adad64a75b7625645        0            draft\n",
       "1  1048aa1f3358cf0acde552d2025c0557        0  functional_spec\n",
       "2  07aad16c459e268b8152756eb70c5e06        0        tech_spec\n",
       "3  a46dbcbec2d52fb3638e388b093db39b        1            draft\n",
       "4  13dc799760765b2a6600f5da7dfe9bce        1  functional_spec\n",
       "5  2d1ad54bf710453a4b02e6ad434c46a9        2            draft\n",
       "6  625412e9447f64079c687fe981c52c46        2  functional_spec\n",
       "7  a9f7b7104ec93ee2c8e2e1228a00d3d0        2        tech_spec\n",
       "8  dcdc7193887e3d341cc5f8098eb00bcf        2   implementation\n",
       "9  536ccf9cd24dcea9032fd3f85375ec1b        3            draft"
      ]
     },
     "execution_count": 7,
     "metadata": {},
     "output_type": "execute_result"
    }
   ],
   "source": [
    "import pandas as pd\n",
    "#importing state_transitions data frame\n",
    "statetrans_df = pd.read_csv('data/state-transitions.csv')\n",
    "\n",
    "#confirming data \n",
    "statetrans_df.head(10)"
   ]
  },
  {
   "cell_type": "code",
   "execution_count": 8,
   "metadata": {},
   "outputs": [],
   "source": [
    "#extracting state from state_transitions dataframe\n",
    "state = statetrans_df.loc[:,[\"task_id\",\"state\"]]\n",
    "\n",
    "#convert task_id column into a list\n",
    "task_id_list = state['task_id'].tolist()\n",
    "task_id_list_str = [str(x) for x in task_id_list]\n",
    "\n",
    "#convert state column into a list\n",
    "state_list = state['state'].tolist()\n",
    "\n",
    "#create empty lists\n",
    "index_list = []\n",
    "current_state = []\n",
    "\n",
    "# reversing the list\n",
    "task_id_list_str.reverse()\n",
    "\n",
    "#total number of tasks\n",
    "total_tasks = len(tasks_df['id'])\n",
    "\n",
    "#for loop to find index of last occurence of task id\n",
    "for id in range(total_tasks): \n",
    "\n",
    "    # finding the index of task id\n",
    "    index = task_id_list_str.index(str(id))\n",
    "    \n",
    "    # finding the final occurenct index\n",
    "    final_index = len(task_id_list_str) - index - 1\n",
    "    \n",
    "    #append to index_list\n",
    "    index_list.append(final_index)\n",
    "\n",
    "#for loop to find current states of each task \n",
    "for index in index_list:\n",
    "    current_state.append(state_list[index])    \n"
   ]
  },
  {
   "cell_type": "code",
   "execution_count": 9,
   "metadata": {},
   "outputs": [
    {
     "data": {
      "text/html": [
       "<div>\n",
       "<style scoped>\n",
       "    .dataframe tbody tr th:only-of-type {\n",
       "        vertical-align: middle;\n",
       "    }\n",
       "\n",
       "    .dataframe tbody tr th {\n",
       "        vertical-align: top;\n",
       "    }\n",
       "\n",
       "    .dataframe thead th {\n",
       "        text-align: right;\n",
       "    }\n",
       "</style>\n",
       "<table border=\"1\" class=\"dataframe\">\n",
       "  <thead>\n",
       "    <tr style=\"text-align: right;\">\n",
       "      <th></th>\n",
       "      <th>id</th>\n",
       "      <th>description</th>\n",
       "      <th>assignee</th>\n",
       "      <th>sprint</th>\n",
       "      <th>team</th>\n",
       "      <th>story_points</th>\n",
       "      <th>state_transitions</th>\n",
       "    </tr>\n",
       "  </thead>\n",
       "  <tbody>\n",
       "    <tr>\n",
       "      <th>0</th>\n",
       "      <td>0</td>\n",
       "      <td>Itself most affect rise after product tend eat...</td>\n",
       "      <td>114</td>\n",
       "      <td>1</td>\n",
       "      <td>8</td>\n",
       "      <td>13</td>\n",
       "      <td>tech_spec</td>\n",
       "    </tr>\n",
       "    <tr>\n",
       "      <th>1</th>\n",
       "      <td>1</td>\n",
       "      <td>Begin herself make Congress see eight possible...</td>\n",
       "      <td>31</td>\n",
       "      <td>6</td>\n",
       "      <td>10</td>\n",
       "      <td>5</td>\n",
       "      <td>functional_spec</td>\n",
       "    </tr>\n",
       "    <tr>\n",
       "      <th>2</th>\n",
       "      <td>2</td>\n",
       "      <td>Plan big themselves left public glass result o...</td>\n",
       "      <td>22</td>\n",
       "      <td>1</td>\n",
       "      <td>14</td>\n",
       "      <td>13</td>\n",
       "      <td>implementation</td>\n",
       "    </tr>\n",
       "    <tr>\n",
       "      <th>3</th>\n",
       "      <td>3</td>\n",
       "      <td>Finally table by establish begin maybe tough s...</td>\n",
       "      <td>58</td>\n",
       "      <td>1</td>\n",
       "      <td>8</td>\n",
       "      <td>2</td>\n",
       "      <td>implementation</td>\n",
       "    </tr>\n",
       "    <tr>\n",
       "      <th>4</th>\n",
       "      <td>4</td>\n",
       "      <td>Seem that although executive of energy chair p...</td>\n",
       "      <td>5</td>\n",
       "      <td>1</td>\n",
       "      <td>14</td>\n",
       "      <td>3</td>\n",
       "      <td>draft</td>\n",
       "    </tr>\n",
       "    <tr>\n",
       "      <th>...</th>\n",
       "      <td>...</td>\n",
       "      <td>...</td>\n",
       "      <td>...</td>\n",
       "      <td>...</td>\n",
       "      <td>...</td>\n",
       "      <td>...</td>\n",
       "      <td>...</td>\n",
       "    </tr>\n",
       "    <tr>\n",
       "      <th>9995</th>\n",
       "      <td>9995</td>\n",
       "      <td>Bad sometimes over thank nation notice perform...</td>\n",
       "      <td>100</td>\n",
       "      <td>6</td>\n",
       "      <td>3</td>\n",
       "      <td>13</td>\n",
       "      <td>done</td>\n",
       "    </tr>\n",
       "    <tr>\n",
       "      <th>9996</th>\n",
       "      <td>9996</td>\n",
       "      <td>Quickly through almost beat mention wife owner...</td>\n",
       "      <td>29</td>\n",
       "      <td>8</td>\n",
       "      <td>11</td>\n",
       "      <td>8</td>\n",
       "      <td>functional_spec</td>\n",
       "    </tr>\n",
       "    <tr>\n",
       "      <th>9997</th>\n",
       "      <td>9997</td>\n",
       "      <td>Affect nice car identify those change seem all...</td>\n",
       "      <td>27</td>\n",
       "      <td>5</td>\n",
       "      <td>5</td>\n",
       "      <td>5</td>\n",
       "      <td>implementation</td>\n",
       "    </tr>\n",
       "    <tr>\n",
       "      <th>9998</th>\n",
       "      <td>9998</td>\n",
       "      <td>Police skin painting discuss whose floor threa...</td>\n",
       "      <td>112</td>\n",
       "      <td>7</td>\n",
       "      <td>12</td>\n",
       "      <td>8</td>\n",
       "      <td>implementation</td>\n",
       "    </tr>\n",
       "    <tr>\n",
       "      <th>9999</th>\n",
       "      <td>9999</td>\n",
       "      <td>Likely prove charge thousand seat little would...</td>\n",
       "      <td>93</td>\n",
       "      <td>9</td>\n",
       "      <td>4</td>\n",
       "      <td>1</td>\n",
       "      <td>done</td>\n",
       "    </tr>\n",
       "  </tbody>\n",
       "</table>\n",
       "<p>10000 rows × 7 columns</p>\n",
       "</div>"
      ],
      "text/plain": [
       "        id                                        description  assignee  \\\n",
       "0        0  Itself most affect rise after product tend eat...       114   \n",
       "1        1  Begin herself make Congress see eight possible...        31   \n",
       "2        2  Plan big themselves left public glass result o...        22   \n",
       "3        3  Finally table by establish begin maybe tough s...        58   \n",
       "4        4  Seem that although executive of energy chair p...         5   \n",
       "...    ...                                                ...       ...   \n",
       "9995  9995  Bad sometimes over thank nation notice perform...       100   \n",
       "9996  9996  Quickly through almost beat mention wife owner...        29   \n",
       "9997  9997  Affect nice car identify those change seem all...        27   \n",
       "9998  9998  Police skin painting discuss whose floor threa...       112   \n",
       "9999  9999  Likely prove charge thousand seat little would...        93   \n",
       "\n",
       "      sprint  team  story_points state_transitions  \n",
       "0          1     8            13         tech_spec  \n",
       "1          6    10             5   functional_spec  \n",
       "2          1    14            13    implementation  \n",
       "3          1     8             2    implementation  \n",
       "4          1    14             3             draft  \n",
       "...      ...   ...           ...               ...  \n",
       "9995       6     3            13              done  \n",
       "9996       8    11             8   functional_spec  \n",
       "9997       5     5             5    implementation  \n",
       "9998       7    12             8    implementation  \n",
       "9999       9     4             1              done  \n",
       "\n",
       "[10000 rows x 7 columns]"
      ]
     },
     "execution_count": 9,
     "metadata": {},
     "output_type": "execute_result"
    }
   ],
   "source": [
    "#creating a new copy of tasks dataframe\n",
    "tasks_df2 = tasks_df.copy()\n",
    "\n",
    "#adding state_transitions column to tasks dataframe\n",
    "tasks_df2['state_transitions'] = current_state\n",
    "\n",
    "tasks_df2"
   ]
  },
  {
   "cell_type": "code",
   "execution_count": 10,
   "metadata": {},
   "outputs": [],
   "source": [
    "#convert data frame to csv\n",
    "tasks_df2.to_csv('data/tasks_df2.csv')\n"
   ]
  },
  {
   "cell_type": "markdown",
   "metadata": {},
   "source": [
    "##### 1(e)"
   ]
  },
  {
   "cell_type": "code",
   "execution_count": 11,
   "metadata": {},
   "outputs": [],
   "source": [
    "def compute_commitment(team_id, sprint): \n",
    "    \n",
    "    #Computing a dataframe to capture the commitments using groupby()\n",
    "    sprint_team_grp = tasks_df2.groupby(['sprint', 'team'])\n",
    "    commitment_df = sprint_team_grp['story_points'].sum().reset_index()\n",
    "    \n",
    "    #finding commitment using team_id and sprint\n",
    "    row = commitment_df.loc[(commitment_df['team'] == team_id) & (commitment_df['sprint'] == sprint)]\n",
    "    commitment = row.iloc[0]['story_points']\n",
    "    \n",
    "    return commitment"
   ]
  },
  {
   "cell_type": "code",
   "execution_count": 12,
   "metadata": {},
   "outputs": [
    {
     "data": {
      "text/plain": [
       "350"
      ]
     },
     "execution_count": 12,
     "metadata": {},
     "output_type": "execute_result"
    }
   ],
   "source": [
    "#Calling the function with (team_id=8, sprint=1) \n",
    "\n",
    "compute_commitment(8, 1)"
   ]
  },
  {
   "cell_type": "markdown",
   "metadata": {},
   "source": [
    "##### 1(f)"
   ]
  },
  {
   "cell_type": "code",
   "execution_count": 13,
   "metadata": {},
   "outputs": [],
   "source": [
    "def compute_velocity(team_id, sprint):\n",
    "    #Computing a dataframe to capture the commitments using groupby()\n",
    "    sprint_state_grp = tasks_df2.groupby(['sprint', 'team','state_transitions'])\n",
    "    velocity_state_df = sprint_state_grp['story_points'].sum().reset_index()\n",
    "\n",
    "    #finding commitment using team_id and sprint\n",
    "    row = velocity_state_df.loc[(velocity_state_df['team'] == team_id) \\\n",
    "                                & (velocity_state_df['sprint'] == sprint) \\\n",
    "                                & (velocity_state_df['state_transitions'] == 'done')]\n",
    "    velocity = row.iloc[0]['story_points']\n",
    "    \n",
    "    return velocity"
   ]
  },
  {
   "cell_type": "code",
   "execution_count": 14,
   "metadata": {},
   "outputs": [
    {
     "data": {
      "text/plain": [
       "61"
      ]
     },
     "execution_count": 14,
     "metadata": {},
     "output_type": "execute_result"
    }
   ],
   "source": [
    "#Calling the function with (team_id=8, sprint=1) \n",
    "\n",
    "compute_velocity(8, 1)"
   ]
  },
  {
   "cell_type": "markdown",
   "metadata": {},
   "source": [
    "##### 1(g)"
   ]
  },
  {
   "cell_type": "code",
   "execution_count": 15,
   "metadata": {},
   "outputs": [],
   "source": [
    "%matplotlib inline\n",
    "import matplotlib.pyplot as plt\n",
    "import numpy as np"
   ]
  },
  {
   "cell_type": "code",
   "execution_count": 16,
   "metadata": {},
   "outputs": [],
   "source": [
    " def calculateCommitmentVelocity(team_id):   \n",
    "    #retrieve unique sprintIds\n",
    "    sprintId = tasks_df2['sprint'].unique() #returns an array\n",
    "    #convert array into a list\n",
    "    sprintId_list = sprintId.tolist()\n",
    "    sprintId_list.sort()\n",
    "    \n",
    "    #create lists of velocity and commitment\n",
    "    team_velocity = []\n",
    "    team_commitment = []\n",
    "\n",
    "    for id in sprintId_list:\n",
    "        comm = compute_commitment(team_id,id)\n",
    "        team_commitment.append(comm)\n",
    "        vel = compute_velocity(team_id,id)\n",
    "        team_velocity.append(vel)\n",
    "    \n",
    "    return sprintId_list, team_velocity, team_commitment"
   ]
  },
  {
   "cell_type": "code",
   "execution_count": 17,
   "metadata": {},
   "outputs": [],
   "source": [
    "def visualize_velocity_commitment(team_id):\n",
    "    \n",
    "    sprintId_list, team_velocity, team_commitment = calculateCommitmentVelocity(team_id)\n",
    "    X = sprintId_list\n",
    "    Velocity = team_velocity\n",
    "    Commitment = team_commitment\n",
    "\n",
    "    X_axis = np.arange(len(X))\n",
    "\n",
    "    plt.bar(X_axis - 0.2, Commitment, 0.4, label = 'Commitment')\n",
    "    plt.bar(X_axis + 0.2, Velocity, 0.4, label = 'Velocity')\n",
    "\n",
    "    plt.xticks(X_axis, X)\n",
    "    plt.xlabel(\"Sprints\")\n",
    "    plt.ylabel(\"Sum of Story Points\")\n",
    "    plt.title(f\"Visualization of Velocity and Commitment of Team ID: {team_id}\")\n",
    "    plt.legend(bbox_to_anchor=(1, 0.5))\n",
    "    plt.show()"
   ]
  },
  {
   "cell_type": "code",
   "execution_count": 18,
   "metadata": {},
   "outputs": [
    {
     "data": {
      "image/png": "[encoded data removed]",
      "text/plain": [
       "<Figure size 432x288 with 1 Axes>"
      ]
     },
     "metadata": {
      "needs_background": "light"
     },
     "output_type": "display_data"
    }
   ],
   "source": [
    "#Calling the function with (team_id=8) \n",
    "\n",
    "visualize_velocity_commitment(8)"
   ]
  },
  {
   "cell_type": "markdown",
   "metadata": {},
   "source": [
    "### Question 2"
   ]
  },
  {
   "cell_type": "markdown",
   "metadata": {},
   "source": [
    "##### 2(a)"
   ]
  },
  {
   "cell_type": "code",
   "execution_count": 19,
   "metadata": {},
   "outputs": [],
   "source": [
    "#create an SQLite database\n",
    "import sqlite3\n",
    "conn = sqlite3.connect('tasks.db')\n",
    "cur = conn.cursor()\n",
    "cur.execute('DROP TABLE IF EXISTS tasks')\n",
    "cur.execute('CREATE TABLE tasks (task_id INTEGER PRIMARY KEY, description TEXT, assignee INTEGER, \\\n",
    "sprint INTEGER, team INTEGER, story_points INTEGER , state_transitions TEXT)')\n",
    "conn.commit()\n",
    "\n",
    "import csv\n",
    "with open('data/tasks_df2.csv') as f:\n",
    "    reader = csv.reader(f)\n",
    "    # Ignore the header\n",
    "    next(reader, None)\n",
    "    read_count = 0\n",
    "    for row in reader:\n",
    "        read_count += 1\n",
    "        task_id = row[1]\n",
    "        description = row[2]\n",
    "        assignee = row[3]\n",
    "        sprint = row[4]\n",
    "        team = row[5]\n",
    "        story_points = row[6]\n",
    "        state_transitions = row[7]\n",
    "        cur.execute('INSERT INTO tasks (task_id, description, assignee, sprint, team, story_points, state_transitions) VALUES (?, ?, ?, ?, ?, ?, ?)', \\\n",
    "                    (task_id, description, assignee, sprint, team, story_points, state_transitions))\n",
    "    conn.commit()\n",
    "    \n",
    "    cur.execute('SELECT COUNT(*) FROM tasks')\n",
    "    row_count = cur.fetchone()[0]\n",
    "    assert row_count == read_count\n",
    "    \n",
    "conn.close()"
   ]
  },
  {
   "cell_type": "code",
   "execution_count": 20,
   "metadata": {},
   "outputs": [],
   "source": [
    "#Use sqlalchemy ORM to define and store data\n",
    "from sqlalchemy.ext.declarative import declarative_base\n",
    "from sqlalchemy import Column, Integer, String, Enum, Float, ForeignKey\n",
    "from sqlalchemy.orm import relationship\n",
    "\n",
    "Base = declarative_base()\n",
    "\n",
    "#define tasks table\n",
    "class Tasks(Base):\n",
    "    __tablename__ = 'Tasks'\n",
    "    task_id = Column(Integer, primary_key = True)\n",
    "    description = Column(String)\n",
    "    assignee = Column(Integer)\n",
    "    sprint = Column(Integer)\n",
    "    team = Column(Integer)\n",
    "    story_points = Column(Integer)\n",
    "    state_transitions = Column(String)\n",
    "\n",
    "    \n",
    "    def __repr__(self):\n",
    "        return \"%s %s %s %s %s %s %s\" %(self.task_id, self.description, self.assignee, \\\n",
    "                        self.sprint, self.team, self.story_points, self.state_transitions)\n"
   ]
  },
  {
   "cell_type": "code",
   "execution_count": 21,
   "metadata": {},
   "outputs": [],
   "source": [
    "#create our database\n",
    "from sqlalchemy import create_engine\n",
    "engine = create_engine('sqlite:///tasks.db', echo=False)\n",
    "Base.metadata.create_all(engine)"
   ]
  },
  {
   "cell_type": "code",
   "execution_count": 22,
   "metadata": {},
   "outputs": [],
   "source": [
    "from sqlalchemy import create_engine\n",
    "\n",
    "#establishing a connection with the database\n",
    "engine = create_engine('sqlite:///tasks.db', echo=False)\n",
    "\n",
    "\n",
    "#create an instance of the session to start interacting with the database\n",
    "from sqlalchemy.orm import sessionmaker\n",
    "Session = sessionmaker(bind=engine)\n",
    "session = Session()"
   ]
  },
  {
   "cell_type": "code",
   "execution_count": 23,
   "metadata": {},
   "outputs": [],
   "source": [
    "#verification\n",
    "#result = session.query(Tasks)\n",
    "#for r in result:\n",
    "#    print (r)"
   ]
  },
  {
   "cell_type": "markdown",
   "metadata": {},
   "source": [
    "##### 2(b)"
   ]
  },
  {
   "cell_type": "code",
   "execution_count": 24,
   "metadata": {},
   "outputs": [],
   "source": [
    "#function to get all unique sprint IDs\n",
    "def get_sprint_list(team_id):\n",
    "    result = session.query(Tasks) \\\n",
    "        .filter(Tasks.team == team_id,)\n",
    "    sprint_list = []\n",
    "    for r in result:\n",
    "        if r.sprint not in sprint_list:\n",
    "            sprint_list.append(r.sprint)\n",
    "    return sprint_list\n",
    "\n",
    "#funtion to get total storypoints of each sprint ID per current state\n",
    "def calculate_total_storypoints(team_id, sprint):\n",
    "        result = session.query(Tasks) \\\n",
    "            .filter(Tasks.team == team_id, Tasks.sprint == sprint)\n",
    "        \n",
    "        #calculate total story points per current state\n",
    "        total_draft = 0 \n",
    "        total_functional_spec = 0\n",
    "        total_tech_spec = 0\n",
    "        total_implementation = 0\n",
    "        total_done = 0\n",
    "        for r in result:\n",
    "            if r.state_transitions == 'draft':\n",
    "                total_draft += r.story_points\n",
    "            elif r.state_transitions == 'functional_spec':\n",
    "                total_functional_spec += r.story_points\n",
    "            elif r.state_transitions == 'tech_spec':\n",
    "                total_tech_spec += r.story_points\n",
    "            elif r.state_transitions == 'implementation':\n",
    "                total_implementation += r.story_points\n",
    "            else:\n",
    "                total_done += r.story_points\n",
    "        \n",
    "        return total_draft, total_functional_spec, total_tech_spec, total_implementation, total_done"
   ]
  },
  {
   "cell_type": "code",
   "execution_count": 25,
   "metadata": {},
   "outputs": [],
   "source": [
    "%matplotlib inline\n",
    "import matplotlib.pyplot as plt\n",
    "import numpy as np\n",
    "\n",
    "def visualize_story_points_by_state(team_id):\n",
    "    \n",
    "    #get list of sprint IDs\n",
    "    sprint_list = get_sprint_list(team_id)\n",
    "    sprint_list.sort()\n",
    "    \n",
    "    #create lists for all states of sprints\n",
    "    draft_list = []\n",
    "    functional_spec_list = []\n",
    "    tech_spec_list = []\n",
    "    implementation_list = []\n",
    "    done_list = []\n",
    "    \n",
    "    for s in sprint_list:\n",
    "        total_draft, total_functional_spec, total_tech_spec, total_implementation, total_done = calculate_total_storypoints(team_id, s)\n",
    "        draft_list.append(total_draft)\n",
    "        functional_spec_list.append(total_functional_spec)\n",
    "        tech_spec_list.append(total_tech_spec)\n",
    "        implementation_list.append(total_implementation)\n",
    "        done_list.append(total_done)\n",
    "    \n",
    "    #plotting graph\n",
    "    labels = sprint_list     #labels on x axis\n",
    "    draft = np.array(draft_list)\n",
    "    functional_spec = np.array(functional_spec_list)\n",
    "    tech_spec = np.array(tech_spec_list)\n",
    "    implementation = np.array(implementation_list)\n",
    "    done = np.array(done_list)\n",
    "    width = 0.5       # the width of the bars\n",
    "\n",
    "    fig, ax = plt.subplots()\n",
    "    \n",
    "    ax.bar(labels, draft, width, label='draft')\n",
    "    ax.bar(labels, functional_spec, width, bottom=draft, label='functional_spec')\n",
    "    ax.bar(labels, tech_spec, width, bottom=draft + functional_spec, label='tech_spec')\n",
    "    ax.bar(labels, implementation, width, bottom=draft + functional_spec + tech_spec, label='implementation')\n",
    "    ax.bar(labels, done, width, bottom=draft + functional_spec + tech_spec + implementation, label='done')\n",
    "    \n",
    "    ax.set_xlabel('Sprint')\n",
    "    ax.set_ylabel('Story points')\n",
    "    ax.set_title('Visualization of Storypoints by State')\n",
    "    ax.legend(bbox_to_anchor=(1, 0.5))\n",
    "\n",
    "    plt.show()  \n",
    "   \n",
    "    return ax"
   ]
  },
  {
   "cell_type": "code",
   "execution_count": 26,
   "metadata": {},
   "outputs": [
    {
     "data": {
      "image/png": "[encoded data removed]",
      "text/plain": [
       "<Figure size 432x288 with 1 Axes>"
      ]
     },
     "metadata": {
      "needs_background": "light"
     },
     "output_type": "display_data"
    },
    {
     "data": {
      "text/plain": [
       "<AxesSubplot:title={'center':'Visualization of Storypoints by State'}, xlabel='Sprint', ylabel='Story points'>"
      ]
     },
     "execution_count": 26,
     "metadata": {},
     "output_type": "execute_result"
    }
   ],
   "source": [
    "#Calling the function with (team_id=8) \n",
    "visualize_story_points_by_state(8)"
   ]
  },
  {
   "cell_type": "markdown",
   "metadata": {},
   "source": [
    "##### 2(c)(i)\n",
    "Note: I have changed the function name slightly to differentiate SQL language used and to test if the function actually works."
   ]
  },
  {
   "cell_type": "code",
   "execution_count": 27,
   "metadata": {},
   "outputs": [],
   "source": [
    "#sqlalchemy ORM\n",
    "def compute_commitment_ORM(team_id, sprint):\n",
    "        result = session.query(Tasks) \\\n",
    "            .filter(Tasks.team == team_id, Tasks.sprint == sprint)\n",
    "        total_commitment = 0 \n",
    "        for r in result:\n",
    "            total_commitment += r.story_points\n",
    "        return total_commitment"
   ]
  },
  {
   "cell_type": "code",
   "execution_count": 28,
   "metadata": {},
   "outputs": [
    {
     "data": {
      "text/plain": [
       "350"
      ]
     },
     "execution_count": 28,
     "metadata": {},
     "output_type": "execute_result"
    }
   ],
   "source": [
    "#Calling the function with (team_id=8, sprint=1)\n",
    "compute_commitment_ORM(8, 1)"
   ]
  },
  {
   "cell_type": "markdown",
   "metadata": {},
   "source": [
    "##### 2(c)(ii)\n",
    "Note: I have changed the function name slightly to differentiate SQL language used and to test if the function actually works."
   ]
  },
  {
   "cell_type": "code",
   "execution_count": 29,
   "metadata": {},
   "outputs": [],
   "source": [
    "#sqlalchemy ORM\n",
    "def compute_velocity_ORM(team_id, sprint):\n",
    "    result = session.query(Tasks) \\\n",
    "           .filter(Tasks.team == team_id, Tasks.sprint == sprint, Tasks.state_transitions == \"done\")\n",
    "    total_velocity = 0 \n",
    "    for r in result:\n",
    "        total_velocity += r.story_points\n",
    "    return total_velocity"
   ]
  },
  {
   "cell_type": "code",
   "execution_count": 30,
   "metadata": {},
   "outputs": [
    {
     "data": {
      "text/plain": [
       "61"
      ]
     },
     "execution_count": 30,
     "metadata": {},
     "output_type": "execute_result"
    }
   ],
   "source": [
    "#Calling the function with (team_id=8, sprint=1)\n",
    "compute_velocity_ORM(8, 1)"
   ]
  },
  {
   "cell_type": "markdown",
   "metadata": {},
   "source": [
    "##### 2(d)(i)\n",
    "Note: I have changed the function name slightly to differentiate SQL language used and to test if the function actually works."
   ]
  },
  {
   "cell_type": "code",
   "execution_count": 31,
   "metadata": {},
   "outputs": [],
   "source": [
    "#SQLite3 with SQL statements\n",
    "def compute_commitment_SQL(team_id, sprint):\n",
    "    conn = sqlite3.connect('tasks.db')\n",
    "    cur = conn.cursor()\n",
    "    cur.execute('SELECT team, sprint, story_points FROM tasks WHERE team = ? and sprint = ?',\n",
    "               (team_id, sprint))\n",
    "    \n",
    "    total_commitment = 0 \n",
    "    for r in cur:\n",
    "        total_commitment += r[2] #r is a tuple, access story_points by index [2]\n",
    "    \n",
    "    return total_commitment"
   ]
  },
  {
   "cell_type": "code",
   "execution_count": 32,
   "metadata": {},
   "outputs": [
    {
     "data": {
      "text/plain": [
       "350"
      ]
     },
     "execution_count": 32,
     "metadata": {},
     "output_type": "execute_result"
    }
   ],
   "source": [
    "#Calling the function with (team_id=8, sprint=1)\n",
    "compute_commitment_SQL(8, 1)"
   ]
  },
  {
   "cell_type": "markdown",
   "metadata": {},
   "source": [
    "##### 2(d)(ii)\n",
    "Note: I have changed the function name slightly to differentiate SQL language used and to test if the function actually works."
   ]
  },
  {
   "cell_type": "code",
   "execution_count": 33,
   "metadata": {},
   "outputs": [],
   "source": [
    "#SQLite3 with SQL statements\n",
    "def compute_velocity_SQL(team_id, sprint):\n",
    "    conn = sqlite3.connect('tasks.db')\n",
    "    cur = conn.cursor()\n",
    "    cur.execute('SELECT team, sprint, state_transitions, story_points FROM tasks WHERE team = ? and sprint = ? and state_transitions = ?',\n",
    "               (team_id, sprint, 'done'))\n",
    "    \n",
    "    total_velocity = 0 \n",
    "    for r in cur:\n",
    "        total_velocity += r[3] #r is a tuple, access story_points by index [3]\n",
    "    \n",
    "    return total_velocity"
   ]
  },
  {
   "cell_type": "code",
   "execution_count": 34,
   "metadata": {},
   "outputs": [
    {
     "data": {
      "text/plain": [
       "61"
      ]
     },
     "execution_count": 34,
     "metadata": {},
     "output_type": "execute_result"
    }
   ],
   "source": [
    "#Calling the function with (team_id=8, sprint=1)\n",
    "compute_velocity_SQL(8, 1)"
   ]
  },
  {
   "cell_type": "markdown",
   "metadata": {},
   "source": [
    "##### 2(e)(i)\n",
    "Note: I have changed the function name slightly to differentiate SQL language used and to test if the function actually works."
   ]
  },
  {
   "cell_type": "code",
   "execution_count": 35,
   "metadata": {},
   "outputs": [],
   "source": [
    "#sqlalchemy ORM\n",
    "def who_done_the_least_ORM(team_id):\n",
    "    \n",
    "    #get all unique user IDs in a list\n",
    "    result = session.query(Tasks).filter(Tasks.team == team_id)\n",
    "    userID_list = []\n",
    "    for r in result:\n",
    "        if r.assignee not in userID_list:\n",
    "            userID_list.append(r.assignee)\n",
    "    userID_list.sort() #sort the userID_list in ascending order\n",
    "    \n",
    "    #get done story points of each userID in the team\n",
    "    done_dict = {}\n",
    "    for userID in userID_list:\n",
    "        result2 = session.query(Tasks) \\\n",
    "            .filter(Tasks.team == team_id, Tasks.assignee == userID, Tasks.state_transitions == \"done\")\n",
    "        \n",
    "        #find the total done story point of each UserID\n",
    "        total_done = 0\n",
    "        for r in result2:\n",
    "            total_done += r.story_points\n",
    "\n",
    "        if total_done != 0: #remove User IDs that do not have any done story points\n",
    "            done_dict[userID] = total_done\n",
    "    \n",
    "    #get user IDs who have the least number of done story points in the team\n",
    "    who_done_the_least = []\n",
    "    min_done_storypoints = min(done_dict.values()) #find the minimum done storypoints\n",
    "    for userID, done_points in done_dict.items():\n",
    "        if done_points == min_done_storypoints:\n",
    "            who_done_the_least.append(str(userID))\n",
    "            \n",
    "    text = \"User IDs that have the least done story points: \" + \", \".join(who_done_the_least)\n",
    "            \n",
    "    return text"
   ]
  },
  {
   "cell_type": "code",
   "execution_count": 36,
   "metadata": {},
   "outputs": [
    {
     "data": {
      "text/plain": [
       "'User IDs that have the least done story points: 23, 28, 129, 136'"
      ]
     },
     "execution_count": 36,
     "metadata": {},
     "output_type": "execute_result"
    }
   ],
   "source": [
    "#Calling the function with (team_id=8)\n",
    "who_done_the_least_ORM(8)"
   ]
  },
  {
   "cell_type": "markdown",
   "metadata": {},
   "source": [
    "##### 2(e)(ii)\n",
    "Note: I have changed the function name slightly to differentiate SQL language used and to test if the function actually works."
   ]
  },
  {
   "cell_type": "code",
   "execution_count": 37,
   "metadata": {},
   "outputs": [],
   "source": [
    "#SQLite3 with SQL statements\n",
    "def who_done_the_least_SQL(team_id):\n",
    "    \n",
    "    conn = sqlite3.connect('tasks.db')\n",
    "    cur = conn.cursor()\n",
    "    \n",
    "    #get all unique user IDs in a list\n",
    "    cur.execute('SELECT * FROM tasks WHERE team = ?',(team_id,))\n",
    "    userID_list = []\n",
    "    for r in cur:\n",
    "        if r[2] not in userID_list: #r[2] is the userID\n",
    "            userID_list.append(r[2]) \n",
    "    userID_list.sort() #sort the userID_list in ascending order\n",
    "    \n",
    "    #get done story points of each userID in the team\n",
    "    done_dict = {}\n",
    "    for userID in userID_list:\n",
    "        cur.execute('SELECT team, assignee, state_transitions, story_points FROM tasks WHERE team = ? and assignee = ? and state_transitions = ?',\n",
    "               (team_id, userID, 'done'))\n",
    "\n",
    "        #find the total done story point of each UserID\n",
    "        total_done = 0\n",
    "        for r in cur:\n",
    "            total_done += r[3] #r[3] is the done story points\n",
    "             \n",
    "        if total_done != 0: #remove User IDs that do not have any done story points\n",
    "            done_dict[userID] = total_done\n",
    "        \n",
    "   #get user IDs who have the least number of done story points in the team\n",
    "    who_done_the_least = []\n",
    "    min_done_storypoints = min(done_dict.values()) #find the minimum storypoints\n",
    "    for userID, done_points in done_dict.items():\n",
    "        if done_points == min_done_storypoints:\n",
    "            who_done_the_least.append(str(userID))\n",
    "            \n",
    "    text = \"User IDs that have the least done story points: \" + \", \".join(who_done_the_least)\n",
    "            \n",
    "    return text           "
   ]
  },
  {
   "cell_type": "code",
   "execution_count": 38,
   "metadata": {},
   "outputs": [
    {
     "data": {
      "text/plain": [
       "'User IDs that have the least done story points: 23, 28, 129, 136'"
      ]
     },
     "execution_count": 38,
     "metadata": {},
     "output_type": "execute_result"
    }
   ],
   "source": [
    "#Calling the function with (team_id=8)\n",
    "who_done_the_least_SQL(8)"
   ]
  }
 ],
 "metadata": {
  "kernelspec": {
   "display_name": "Python 3",
   "language": "python",
   "name": "python3"
  },
  "language_info": {
   "codemirror_mode": {
    "name": "ipython",
    "version": 3
   },
   "file_extension": ".py",
   "mimetype": "text/x-python",
   "name": "python",
   "nbconvert_exporter": "python",
   "pygments_lexer": "ipython3",
   "version": "3.7.6"
  }
 },
 "nbformat": 4,
 "nbformat_minor": 4
}
